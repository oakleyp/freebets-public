{
 "cells": [
  {
   "cell_type": "code",
   "execution_count": 16,
   "id": "9af08fa7-f8ef-428a-a484-e816abfc4a1b",
   "metadata": {},
   "outputs": [
    {
     "name": "stdout",
     "output_type": "stream",
     "text": [
      "\n",
      "\n"
     ]
    }
   ],
   "source": [
    "from app.ml.clickhouse_pd import get_complete_race_df\n",
    "import numpy as np\n",
    "import pandas as pd\n",
    "from sklearn.model_selection import train_test_split\n",
    "from sklearn.linear_model import LogisticRegression\n",
    "from catboost import CatBoostClassifier, Pool, metrics, cv\n",
    "from catboost.datasets import amazon\n",
    "\n",
    "train_df, test_df = get_complete_race_df()"
   ]
  },
  {
   "cell_type": "code",
   "execution_count": 19,
   "id": "2e15c027-9a6a-46ab-b9e5-4bcb194b4697",
   "metadata": {},
   "outputs": [
    {
     "data": {
      "text/html": [
       "<div>\n",
       "<style scoped>\n",
       "    .dataframe tbody tr th:only-of-type {\n",
       "        vertical-align: middle;\n",
       "    }\n",
       "\n",
       "    .dataframe tbody tr th {\n",
       "        vertical-align: top;\n",
       "    }\n",
       "\n",
       "    .dataframe thead th {\n",
       "        text-align: right;\n",
       "    }\n",
       "</style>\n",
       "<table border=\"1\" class=\"dataframe\">\n",
       "  <thead>\n",
       "    <tr style=\"text-align: right;\">\n",
       "      <th></th>\n",
       "      <th>horse_id</th>\n",
       "      <th>race_id</th>\n",
       "      <th>last_raced_date</th>\n",
       "      <th>last_raced_days_since</th>\n",
       "      <th>last_raced_track</th>\n",
       "      <th>last_raced_track_canonical</th>\n",
       "      <th>last_raced_track_state</th>\n",
       "      <th>last_raced_track_country</th>\n",
       "      <th>last_raced_track_name</th>\n",
       "      <th>last_raced_number</th>\n",
       "      <th>...</th>\n",
       "      <th>wind_direction</th>\n",
       "      <th>post_time</th>\n",
       "      <th>start_comments</th>\n",
       "      <th>timer</th>\n",
       "      <th>dead_heat</th>\n",
       "      <th>number_of_runners</th>\n",
       "      <th>final_time</th>\n",
       "      <th>final_millis</th>\n",
       "      <th>total_wps_pool</th>\n",
       "      <th>footnotes</th>\n",
       "    </tr>\n",
       "  </thead>\n",
       "  <tbody>\n",
       "  </tbody>\n",
       "</table>\n",
       "<p>0 rows × 104 columns</p>\n",
       "</div>"
      ],
      "text/plain": [
       "Empty DataFrame\n",
       "Columns: [horse_id, race_id, last_raced_date, last_raced_days_since, last_raced_track, last_raced_track_canonical, last_raced_track_state, last_raced_track_country, last_raced_track_name, last_raced_number, last_raced_position, program, entry, entry_program, horse, jockey_first, jockey_last, trainer_first, trainer_last, owner, weight, jockey_allowance, medication_equipment, claim_price, claimed, new_trainer_name, new_owner_name, pp, finish_position, official_position, position_dead_heat, wagering_position, winner, disqualified, odds, choice, favorite, comments, sire, dam, where_bred, breeder, color, sex, dob, date, track, track_canonical, track_state, track_country, track_name, number, breed, type, code, race_name, grade, black_type, conditions, min_claim, max_claim, restrictions, min_age, max_age, age_code, sexes, sexes_code, female_only, state_bred, distance_text, distance_compact, feet, furlongs, exact, run_up, temp_rail, surface, course, track_condition, scheduled_surface, scheduled_course, off_turf, format, track_record_holder, track_record_time, track_record_millis, track_record_date, purse, purse_text, available_money, purse_enhancements, value_of_race, weather, wind_speed, wind_direction, post_time, start_comments, timer, dead_heat, number_of_runners, ...]\n",
       "Index: []\n",
       "\n",
       "[0 rows x 104 columns]"
      ]
     },
     "execution_count": 19,
     "metadata": {},
     "output_type": "execute_result"
    }
   ],
   "source": [
    "test_df.query(\"horse_id.isna()\")"
   ]
  },
  {
   "cell_type": "code",
   "execution_count": 20,
   "id": "2ecd5f40-6e48-4788-a18a-4b12c4028e99",
   "metadata": {},
   "outputs": [],
   "source": [
    "train_df.fillna(-999, inplace=True)\n",
    "test_df.fillna(-999, inplace=True)\n",
    "drop_keys = [\n",
    "    \"winner\",\n",
    "    \"finish_position\",\n",
    "    \"wagering_position\",\n",
    "    \"official_position\",\n",
    "    \"footnotes\",\n",
    "    \"final_time\",\n",
    "    \"final_millis\",\n",
    "    \"comments\",\n",
    "    'last_raced_date',\n",
    "    'last_raced_track',\n",
    "    'last_raced_track_canonical',\n",
    "    'last_raced_track_state',\n",
    "    'last_raced_track_country',\n",
    "    'last_raced_track_name',\n",
    "    'last_raced_number',\n",
    "    'last_raced_position',\n",
    "    'entry_program',\n",
    "    'jockey_allowance',\n",
    "    'claimed',\n",
    "    'new_trainer_name',\n",
    "    'new_owner_name',\n",
    "    'position_dead_heat',\n",
    "    'choice',\n",
    "    'track',\n",
    "    'track_state',\n",
    "    'track_name',\n",
    "    'breed',\n",
    "    'type',\n",
    "    'race_name',\n",
    "    'grade',\n",
    "    'black_type',\n",
    "    'conditions',\n",
    "    'min_claim',\n",
    "    'max_claim',\n",
    "    'restrictions',\n",
    "    'min_age',\n",
    "    'max_age',\n",
    "    'sexes',\n",
    "    'exact',\n",
    "    'run_up',\n",
    "    'temp_rail',\n",
    "    'course',\n",
    "    'track_condition',\n",
    "    'scheduled_surface',\n",
    "    'scheduled_course',\n",
    "    'off_turf',\n",
    "    'format',\n",
    "    'track_record_holder',\n",
    "    'track_record_time',\n",
    "    'track_record_millis',\n",
    "    'track_record_date',\n",
    "    'purse',\n",
    "    'purse_text',\n",
    "    'available_money',\n",
    "    'purse_enhancements',\n",
    "    'value_of_race',\n",
    "    'weather',\n",
    "    'wind_speed',\n",
    "    'wind_direction',\n",
    "    'post_time',\n",
    "    'start_comments',\n",
    "    'timer',\n",
    "    'dead_heat',\n",
    "    'total_wps_pool',\n",
    "    'state_bred',\n",
    "    'breeder'\n",
    "]\n",
    "\n",
    "test_df = test_df.drop(\n",
    "    drop_keys,\n",
    "    axis=1,\n",
    ")\n",
    "\n",
    "x = train_df.drop(drop_keys, axis=1)\n",
    "y = train_df.winner\n",
    "\n"
   ]
  },
  {
   "cell_type": "code",
   "execution_count": 15,
   "id": "6fcb7755-2f9c-4b16-9889-d1895e510d0f",
   "metadata": {},
   "outputs": [
    {
     "data": {
      "text/html": [
       "<div>\n",
       "<style scoped>\n",
       "    .dataframe tbody tr th:only-of-type {\n",
       "        vertical-align: middle;\n",
       "    }\n",
       "\n",
       "    .dataframe tbody tr th {\n",
       "        vertical-align: top;\n",
       "    }\n",
       "\n",
       "    .dataframe thead th {\n",
       "        text-align: right;\n",
       "    }\n",
       "</style>\n",
       "<table border=\"1\" class=\"dataframe\">\n",
       "  <thead>\n",
       "    <tr style=\"text-align: right;\">\n",
       "      <th></th>\n",
       "      <th>horse_id</th>\n",
       "      <th>race_id</th>\n",
       "      <th>last_raced_days_since</th>\n",
       "      <th>program</th>\n",
       "      <th>entry</th>\n",
       "      <th>horse</th>\n",
       "      <th>jockey_first</th>\n",
       "      <th>jockey_last</th>\n",
       "      <th>trainer_first</th>\n",
       "      <th>trainer_last</th>\n",
       "      <th>...</th>\n",
       "      <th>code</th>\n",
       "      <th>age_code</th>\n",
       "      <th>sexes_code</th>\n",
       "      <th>female_only</th>\n",
       "      <th>distance_text</th>\n",
       "      <th>distance_compact</th>\n",
       "      <th>feet</th>\n",
       "      <th>furlongs</th>\n",
       "      <th>surface</th>\n",
       "      <th>number_of_runners</th>\n",
       "    </tr>\n",
       "  </thead>\n",
       "  <tbody>\n",
       "  </tbody>\n",
       "</table>\n",
       "<p>0 rows × 38 columns</p>\n",
       "</div>"
      ],
      "text/plain": [
       "Empty DataFrame\n",
       "Columns: [horse_id, race_id, last_raced_days_since, program, entry, horse, jockey_first, jockey_last, trainer_first, trainer_last, owner, weight, medication_equipment, claim_price, pp, disqualified, odds, favorite, sire, dam, where_bred, color, sex, dob, date, track_canonical, track_country, number, code, age_code, sexes_code, female_only, distance_text, distance_compact, feet, furlongs, surface, number_of_runners]\n",
       "Index: []\n",
       "\n",
       "[0 rows x 38 columns]"
      ]
     },
     "execution_count": 15,
     "metadata": {},
     "output_type": "execute_result"
    }
   ],
   "source": [
    "test_df.query(\"code == -999\")\n",
    "# test_df.head()"
   ]
  },
  {
   "cell_type": "code",
   "execution_count": 21,
   "id": "8d5cd636-3ebf-4498-b1b7-3f32fd97abb5",
   "metadata": {},
   "outputs": [
    {
     "data": {
      "application/vnd.jupyter.widget-view+json": {
       "model_id": "02296a67a29b4f9091cf0448dcdf8f7f",
       "version_major": 2,
       "version_minor": 0
      },
      "text/plain": [
       "MetricVisualizer(layout=Layout(align_self='stretch', height='500px'))"
      ]
     },
     "metadata": {},
     "output_type": "display_data"
    },
    {
     "data": {
      "text/plain": [
       "<catboost.core.CatBoostClassifier at 0x7f9cc68f0f70>"
      ]
     },
     "execution_count": 21,
     "metadata": {},
     "output_type": "execute_result"
    }
   ],
   "source": [
    "categorical_features_indices = np.where(x.dtypes != float)[0]\n",
    "\n",
    "x_train, x_validation, y_train, y_validation = train_test_split(x, y, train_size=0.75)\n",
    "\n",
    "x_test = test_df\n",
    "\n",
    "model = CatBoostClassifier(\n",
    "  custom_loss=[metrics.Accuracy()],\n",
    "  logging_level='Silent'\n",
    ")\n",
    "\n",
    "train_pool = Pool(x_train, y_train, cat_features=categorical_features_indices)\n",
    "\n",
    "\n",
    "model.fit(\n",
    "  train_pool,\n",
    "  eval_set=(x_validation, y_validation),\n",
    "  # logging_level='Verbose',\n",
    "  plot=True\n",
    ")\n",
    "\n"
   ]
  },
  {
   "cell_type": "code",
   "execution_count": 22,
   "id": "f244086d-1f3d-4c62-81c6-b23f7dfe13e7",
   "metadata": {},
   "outputs": [
    {
     "data": {
      "application/vnd.jupyter.widget-view+json": {
       "model_id": "da58c6f1015a405ca54124b55e66ead4",
       "version_major": 2,
       "version_minor": 0
      },
      "text/plain": [
       "MetricVisualizer(layout=Layout(align_self='stretch', height='500px'))"
      ]
     },
     "metadata": {},
     "output_type": "display_data"
    }
   ],
   "source": [
    "cv_params = model.get_params()\n",
    "cv_params.update({\n",
    "  'loss_function': metrics.Logloss(),\n",
    "})\n",
    "\n",
    "cv_data = cv(\n",
    "  Pool(x, y, cat_features=categorical_features_indices),\n",
    "  cv_params,\n",
    "  plot=True,\n",
    ")"
   ]
  },
  {
   "cell_type": "code",
   "execution_count": null,
   "id": "62bec7be-cc31-47a2-81a1-daed63d3127a",
   "metadata": {},
   "outputs": [
    {
     "name": "stdout",
     "output_type": "stream",
     "text": [
      " 94%|████████████████████████████████████████████████████████████████████████████████████████████████████████████████████████████████████████████████████████████████████████████████████████████████████████▏            | 47/50 [36:39<02:21, 47.11s/trial, best loss: 0.07749133122267449]"
     ]
    }
   ],
   "source": [
    "import hyperopt\n",
    "\n",
    "def hyperopt_objective(params):\n",
    "    model = CatBoostClassifier(\n",
    "        l2_leaf_reg=int(params['l2_leaf_reg']),\n",
    "        learning_rate=params['learning_rate'],\n",
    "        iterations=500,\n",
    "        eval_metric=metrics.Accuracy(),\n",
    "        verbose=False,\n",
    "        loss_function=metrics.Logloss(),\n",
    "    )\n",
    "    \n",
    "    cv_data = cv(\n",
    "        Pool(x, y, cat_features=categorical_features_indices),\n",
    "        model.get_params(),\n",
    "        logging_level='Silent',\n",
    "    )\n",
    "    best_accuracy = np.max(cv_data['test-Accuracy-mean'])\n",
    "    \n",
    "    return 1 - best_accuracy # as hyperopt minimises\n",
    "\n",
    "from numpy.random import default_rng\n",
    "\n",
    "params_space = {\n",
    "    'l2_leaf_reg': hyperopt.hp.qloguniform('l2_leaf_reg', 0, 2, 1),\n",
    "    'learning_rate': hyperopt.hp.uniform('learning_rate', 1e-3, 5e-1),\n",
    "}\n",
    "\n",
    "trials = hyperopt.Trials()\n",
    "\n",
    "best = hyperopt.fmin(\n",
    "    hyperopt_objective,\n",
    "    space=params_space,\n",
    "    algo=hyperopt.tpe.suggest,\n",
    "    max_evals=50,\n",
    "    trials=trials,\n",
    "    rstate=default_rng(123)\n",
    ")\n",
    "\n",
    "print(best)"
   ]
  },
  {
   "cell_type": "code",
   "execution_count": 25,
   "id": "66a390f9-5b03-4dcb-b543-7984eee1c8dd",
   "metadata": {},
   "outputs": [
    {
     "name": "stdout",
     "output_type": "stream",
     "text": [
      "Precise validation accuracy score: 0.9798167915696315\n"
     ]
    },
    {
     "data": {
      "application/vnd.jupyter.widget-view+json": {
       "model_id": "89fc731bd7a74667809cedc99b08b272",
       "version_major": 2,
       "version_minor": 0
      },
      "text/plain": [
       "MetricVisualizer(layout=Layout(align_self='stretch', height='500px'))"
      ]
     },
     "metadata": {},
     "output_type": "display_data"
    },
    {
     "name": "stdout",
     "output_type": "stream",
     "text": [
      "Simple model tree count: 1\n",
      "Simple model validation accuracy: 0.9748\n"
     ]
    }
   ],
   "source": [
    "print('Precise validation accuracy score: {}'.format(np.max(cv_data['test-Accuracy-mean'])))\n",
    "from sklearn.metrics import accuracy_score\n",
    "\n",
    "\n",
    "model = CatBoostClassifier(\n",
    "    # l2_leaf_reg=int(best['l2_leaf_reg']),\n",
    "    # learning_rate=best['learning_rate'],\n",
    "    iterations=500,\n",
    "    od_type='Iter',\n",
    "    od_wait=40,\n",
    "    eval_metric=metrics.Accuracy(),\n",
    "    verbose=False,\n",
    "    loss_function=metrics.Logloss(),\n",
    ")\n",
    "\n",
    "# cv_data = cv(Pool(x, y, cat_features=categorical_features_indices), model.get_params())\n",
    "\n",
    "validate_pool = Pool(x_validation, y_validation, cat_features=categorical_features_indices)\n",
    "\n",
    "model.fit(x, y, cat_features=categorical_features_indices, eval_set=validate_pool, plot=True)\n",
    "\n",
    "\n",
    "print('Simple model tree count: {}'.format(model.tree_count_))\n",
    "print('Simple model validation accuracy: {:.4}'.format(\n",
    "    accuracy_score(y_validation, model.predict(x_validation))\n",
    "))"
   ]
  },
  {
   "cell_type": "code",
   "execution_count": 26,
   "id": "5155fb44-2948-454c-a49b-2a8e201fbcc1",
   "metadata": {},
   "outputs": [
    {
     "name": "stdout",
     "output_type": "stream",
     "text": [
      "odds: 99.53412516020354\n",
      "where_bred: 0.46587483979645883\n",
      "weight: 0.0\n",
      "trainer_last: 0.0\n",
      "trainer_first: 0.0\n",
      "track_country: 0.0\n",
      "track_canonical: 0.0\n",
      "surface: 0.0\n",
      "sire: 0.0\n",
      "sexes_code: 0.0\n",
      "sex: 0.0\n",
      "race_id: 0.0\n",
      "program: 0.0\n",
      "pp: 0.0\n",
      "owner: 0.0\n",
      "number_of_runners: 0.0\n",
      "number: 0.0\n",
      "medication_equipment: 0.0\n",
      "last_raced_days_since: 0.0\n",
      "jockey_last: 0.0\n",
      "jockey_first: 0.0\n",
      "horse_id: 0.0\n",
      "horse: 0.0\n",
      "furlongs: 0.0\n",
      "female_only: 0.0\n",
      "feet: 0.0\n",
      "favorite: 0.0\n",
      "entry: 0.0\n",
      "dob: 0.0\n",
      "distance_text: 0.0\n",
      "distance_compact: 0.0\n",
      "disqualified: 0.0\n",
      "date: 0.0\n",
      "dam: 0.0\n",
      "color: 0.0\n",
      "code: 0.0\n",
      "claim_price: 0.0\n",
      "age_code: 0.0\n"
     ]
    }
   ],
   "source": [
    "feature_importances = model.get_feature_importance(train_pool)\n",
    "feature_names = x_train.columns\n",
    "for score, name in sorted(zip(feature_importances, feature_names), reverse=True):\n",
    "    print('{}: {}'.format(name, score))"
   ]
  },
  {
   "cell_type": "code",
   "execution_count": 27,
   "id": "00289404-d440-440c-9ca2-0b6721abab30",
   "metadata": {},
   "outputs": [
    {
     "name": "stdout",
     "output_type": "stream",
     "text": [
      "\n",
      "1884 256 63 1565 0\n",
      "1884 5 1869 10 0\n"
     ]
    }
   ],
   "source": [
    "# print(train_df[['winner', 'horse']])\n",
    "\n",
    "def get_race_predicted_top_3(race_id):\n",
    "    race_horses = x_test.loc[x_test['race_id'] == race_id]\n",
    "    race_results = model.predict_proba(race_horses)\n",
    "        \n",
    "    race_id_numpy = race_horses['race_id'].to_numpy()\n",
    "    race_horses_numpy = race_horses['horse'].to_numpy()\n",
    "              \n",
    "    winner_probs = race_results[:,1]\n",
    "    df = pd.DataFrame()\n",
    "    df['horse'] = race_horses_numpy\n",
    "    df['win_prob'] = winner_probs    \n",
    "\n",
    "    return df.sort_values(by='win_prob', ascending=False).head(n=3)\n",
    "    \n",
    "    \n",
    "race_ids = set(list(x_test['race_id'].to_numpy()))\n",
    "\n",
    "# print(race_ids)\n",
    "\n",
    "import app.lib.clickhouse2pandas as ch2pd\n",
    "from app.core.config import settings\n",
    "\n",
    "connection_url = settings.CLICKHOUSE_URI\n",
    "    \n",
    "all_starters = ch2pd.select(connection_url, f\"SELECT * FROM race_db.starters\")\n",
    "race_winners = all_starters.loc[all_starters['winner'] == True]\n",
    "\n",
    "def get_top_3_by_odds(race_id):\n",
    "    in_race = all_starters.loc[all_starters['race_id'] == race_id]\n",
    "    return in_race.sort_values(by='odds', ascending=False).head(n=3)\n",
    "    \n",
    "def get_race_winner_actual(race_id):\n",
    "    # print(race_winners.head(n=500))\n",
    "    res = race_winners.loc[race_winners['race_id'] == race_id][['horse']].to_numpy()\n",
    "    \n",
    "    if res.size == 0:\n",
    "        return None\n",
    "    \n",
    "    return res[0][0]\n",
    "\n",
    "def get_stats_predicted():\n",
    "    total_races = 0\n",
    "    in_top_3 = 0\n",
    "    in_top_1 = 0\n",
    "    no_match = 0\n",
    "    err = 0\n",
    "\n",
    "    for race_id in race_ids:\n",
    "        total_races += 1\n",
    "\n",
    "        res = get_race_predicted_top_3(race_id)\n",
    "        actual = get_race_winner_actual(race_id)\n",
    "\n",
    "        if actual is None:\n",
    "            err += 1\n",
    "            continue\n",
    "\n",
    "        try:\n",
    "            found = res.loc[res['horse'] == actual]\n",
    "\n",
    "            if len(found.index) == 0:\n",
    "                no_match += 1\n",
    "                continue\n",
    "\n",
    "            # print(res[['horse']].to_numpy()[:,0])\n",
    "\n",
    "            realind = res[['horse']].to_numpy()[:,0].tolist().index(actual)\n",
    "\n",
    "\n",
    "            # print(len(index))   \n",
    "\n",
    "            if realind == 0:\n",
    "                in_top_1 += 1\n",
    "            else:\n",
    "                in_top_3 += 1\n",
    "        except ValueError:\n",
    "            no_match += 1\n",
    "\n",
    "    print(total_races, in_top_3, in_top_1, no_match, err)\n",
    "        \n",
    "def get_stats_by_odds():\n",
    "    total_races = 0\n",
    "    in_top_3 = 0\n",
    "    in_top_1 = 0\n",
    "    no_match = 0\n",
    "    err = 0\n",
    "\n",
    "    for race_id in race_ids:\n",
    "        total_races += 1\n",
    "\n",
    "        res = get_top_3_by_odds(race_id)\n",
    "        actual = get_race_winner_actual(race_id)\n",
    "\n",
    "        if actual is None:\n",
    "            err += 1\n",
    "            continue\n",
    "\n",
    "        try:\n",
    "            found = res.loc[res['horse'] == actual]\n",
    "\n",
    "            if len(found.index) == 0:\n",
    "                no_match += 1\n",
    "                continue\n",
    "\n",
    "            # print(res[['horse']].to_numpy()[:,0])\n",
    "\n",
    "            realind = res[['horse']].to_numpy()[:,0].tolist().index(actual)\n",
    "\n",
    "\n",
    "            # print(len(index))   \n",
    "\n",
    "            if realind == 0:\n",
    "                in_top_1 += 1\n",
    "            else:\n",
    "                in_top_3 += 1\n",
    "        except ValueError:\n",
    "            no_match += 1\n",
    "\n",
    "    print(total_races, in_top_3, in_top_1, no_match, err)\n",
    "        \n",
    "\n",
    "get_stats_by_odds()\n",
    "get_stats_predicted()\n",
    "    \n",
    "\n",
    "# get_top_3_by_odds('faba4165-8f2d-47e8-9de7-74d04490b46f')[['horse', 'odds']]\n",
    "    \n",
    "# print(get_race_winner_actual('faba4165-8f2d-47e8-9de7-74d04490b46f'))\n",
    "\n",
    "# get_race_predicted_top_3('faba4165-8f2d-47e8-9de7-74d04490b46f')"
   ]
  },
  {
   "cell_type": "code",
   "execution_count": 24,
   "id": "84238b5c-e1b0-4d34-bbf6-292a8324f726",
   "metadata": {},
   "outputs": [],
   "source": [
    "model.save_model(\"race_model2.dump\")"
   ]
  },
  {
   "cell_type": "code",
   "execution_count": 86,
   "id": "b7aa39a1-5128-4ef2-a132-347295f3d1fa",
   "metadata": {},
   "outputs": [
    {
     "ename": "ValueError",
     "evalue": "Wrong number of items passed 2, placement implies 1",
     "output_type": "error",
     "traceback": [
      "\u001b[0;31m---------------------------------------------------------------------------\u001b[0m",
      "\u001b[0;31mKeyError\u001b[0m                                  Traceback (most recent call last)",
      "File \u001b[0;32m~/.local/lib/python3.8/site-packages/pandas/core/indexes/base.py:3361\u001b[0m, in \u001b[0;36mIndex.get_loc\u001b[0;34m(self, key, method, tolerance)\u001b[0m\n\u001b[1;32m   3360\u001b[0m \u001b[38;5;28;01mtry\u001b[39;00m:\n\u001b[0;32m-> 3361\u001b[0m     \u001b[38;5;28;01mreturn\u001b[39;00m \u001b[38;5;28;43mself\u001b[39;49m\u001b[38;5;241;43m.\u001b[39;49m\u001b[43m_engine\u001b[49m\u001b[38;5;241;43m.\u001b[39;49m\u001b[43mget_loc\u001b[49m\u001b[43m(\u001b[49m\u001b[43mcasted_key\u001b[49m\u001b[43m)\u001b[49m\n\u001b[1;32m   3362\u001b[0m \u001b[38;5;28;01mexcept\u001b[39;00m \u001b[38;5;167;01mKeyError\u001b[39;00m \u001b[38;5;28;01mas\u001b[39;00m err:\n",
      "File \u001b[0;32m~/.local/lib/python3.8/site-packages/pandas/_libs/index.pyx:76\u001b[0m, in \u001b[0;36mpandas._libs.index.IndexEngine.get_loc\u001b[0;34m()\u001b[0m\n",
      "File \u001b[0;32m~/.local/lib/python3.8/site-packages/pandas/_libs/index.pyx:108\u001b[0m, in \u001b[0;36mpandas._libs.index.IndexEngine.get_loc\u001b[0;34m()\u001b[0m\n",
      "File \u001b[0;32mpandas/_libs/hashtable_class_helper.pxi:5198\u001b[0m, in \u001b[0;36mpandas._libs.hashtable.PyObjectHashTable.get_item\u001b[0;34m()\u001b[0m\n",
      "File \u001b[0;32mpandas/_libs/hashtable_class_helper.pxi:5206\u001b[0m, in \u001b[0;36mpandas._libs.hashtable.PyObjectHashTable.get_item\u001b[0;34m()\u001b[0m\n",
      "\u001b[0;31mKeyError\u001b[0m: 'winner'",
      "\nThe above exception was the direct cause of the following exception:\n",
      "\u001b[0;31mKeyError\u001b[0m                                  Traceback (most recent call last)",
      "File \u001b[0;32m~/.local/lib/python3.8/site-packages/pandas/core/frame.py:3751\u001b[0m, in \u001b[0;36mDataFrame._set_item_mgr\u001b[0;34m(self, key, value)\u001b[0m\n\u001b[1;32m   3750\u001b[0m \u001b[38;5;28;01mtry\u001b[39;00m:\n\u001b[0;32m-> 3751\u001b[0m     loc \u001b[38;5;241m=\u001b[39m \u001b[38;5;28;43mself\u001b[39;49m\u001b[38;5;241;43m.\u001b[39;49m\u001b[43m_info_axis\u001b[49m\u001b[38;5;241;43m.\u001b[39;49m\u001b[43mget_loc\u001b[49m\u001b[43m(\u001b[49m\u001b[43mkey\u001b[49m\u001b[43m)\u001b[49m\n\u001b[1;32m   3752\u001b[0m \u001b[38;5;28;01mexcept\u001b[39;00m \u001b[38;5;167;01mKeyError\u001b[39;00m:\n\u001b[1;32m   3753\u001b[0m     \u001b[38;5;66;03m# This item wasn't present, just insert at end\u001b[39;00m\n",
      "File \u001b[0;32m~/.local/lib/python3.8/site-packages/pandas/core/indexes/base.py:3363\u001b[0m, in \u001b[0;36mIndex.get_loc\u001b[0;34m(self, key, method, tolerance)\u001b[0m\n\u001b[1;32m   3362\u001b[0m     \u001b[38;5;28;01mexcept\u001b[39;00m \u001b[38;5;167;01mKeyError\u001b[39;00m \u001b[38;5;28;01mas\u001b[39;00m err:\n\u001b[0;32m-> 3363\u001b[0m         \u001b[38;5;28;01mraise\u001b[39;00m \u001b[38;5;167;01mKeyError\u001b[39;00m(key) \u001b[38;5;28;01mfrom\u001b[39;00m \u001b[38;5;21;01merr\u001b[39;00m\n\u001b[1;32m   3365\u001b[0m \u001b[38;5;28;01mif\u001b[39;00m is_scalar(key) \u001b[38;5;129;01mand\u001b[39;00m isna(key) \u001b[38;5;129;01mand\u001b[39;00m \u001b[38;5;129;01mnot\u001b[39;00m \u001b[38;5;28mself\u001b[39m\u001b[38;5;241m.\u001b[39mhasnans:\n",
      "\u001b[0;31mKeyError\u001b[0m: 'winner'",
      "\nDuring handling of the above exception, another exception occurred:\n",
      "\u001b[0;31mValueError\u001b[0m                                Traceback (most recent call last)",
      "Input \u001b[0;32mIn [86]\u001b[0m, in \u001b[0;36m<cell line: 3>\u001b[0;34m()\u001b[0m\n\u001b[1;32m      1\u001b[0m submission \u001b[38;5;241m=\u001b[39m pd\u001b[38;5;241m.\u001b[39mDataFrame()\n\u001b[1;32m      2\u001b[0m submission[\u001b[38;5;124m'\u001b[39m\u001b[38;5;124mhorse\u001b[39m\u001b[38;5;124m'\u001b[39m] \u001b[38;5;241m=\u001b[39m x_test[\u001b[38;5;124m'\u001b[39m\u001b[38;5;124mhorse\u001b[39m\u001b[38;5;124m'\u001b[39m]\n\u001b[0;32m----> 3\u001b[0m submission[\u001b[38;5;124m'\u001b[39m\u001b[38;5;124mwinner\u001b[39m\u001b[38;5;124m'\u001b[39m] \u001b[38;5;241m=\u001b[39m model\u001b[38;5;241m.\u001b[39mpredict_proba(x_test)\n\u001b[1;32m      5\u001b[0m \u001b[38;5;28mprint\u001b[39m(\u001b[38;5;124m'\u001b[39m\u001b[38;5;124msubmission\u001b[39m\u001b[38;5;124m'\u001b[39m, submission)\n\u001b[1;32m      7\u001b[0m submission\u001b[38;5;241m.\u001b[39mto_csv(\u001b[38;5;124m'\u001b[39m\u001b[38;5;124msubmission.csv\u001b[39m\u001b[38;5;124m'\u001b[39m, index\u001b[38;5;241m=\u001b[39m\u001b[38;5;28;01mFalse\u001b[39;00m)\n",
      "File \u001b[0;32m~/.local/lib/python3.8/site-packages/pandas/core/frame.py:3612\u001b[0m, in \u001b[0;36mDataFrame.__setitem__\u001b[0;34m(self, key, value)\u001b[0m\n\u001b[1;32m   3609\u001b[0m     \u001b[38;5;28mself\u001b[39m\u001b[38;5;241m.\u001b[39m_setitem_array([key], value)\n\u001b[1;32m   3610\u001b[0m \u001b[38;5;28;01melse\u001b[39;00m:\n\u001b[1;32m   3611\u001b[0m     \u001b[38;5;66;03m# set column\u001b[39;00m\n\u001b[0;32m-> 3612\u001b[0m     \u001b[38;5;28;43mself\u001b[39;49m\u001b[38;5;241;43m.\u001b[39;49m\u001b[43m_set_item\u001b[49m\u001b[43m(\u001b[49m\u001b[43mkey\u001b[49m\u001b[43m,\u001b[49m\u001b[43m \u001b[49m\u001b[43mvalue\u001b[49m\u001b[43m)\u001b[49m\n",
      "File \u001b[0;32m~/.local/lib/python3.8/site-packages/pandas/core/frame.py:3797\u001b[0m, in \u001b[0;36mDataFrame._set_item\u001b[0;34m(self, key, value)\u001b[0m\n\u001b[1;32m   3794\u001b[0m         \u001b[38;5;28;01mif\u001b[39;00m \u001b[38;5;28misinstance\u001b[39m(existing_piece, DataFrame):\n\u001b[1;32m   3795\u001b[0m             value \u001b[38;5;241m=\u001b[39m np\u001b[38;5;241m.\u001b[39mtile(value, (\u001b[38;5;28mlen\u001b[39m(existing_piece\u001b[38;5;241m.\u001b[39mcolumns), \u001b[38;5;241m1\u001b[39m))\u001b[38;5;241m.\u001b[39mT\n\u001b[0;32m-> 3797\u001b[0m \u001b[38;5;28;43mself\u001b[39;49m\u001b[38;5;241;43m.\u001b[39;49m\u001b[43m_set_item_mgr\u001b[49m\u001b[43m(\u001b[49m\u001b[43mkey\u001b[49m\u001b[43m,\u001b[49m\u001b[43m \u001b[49m\u001b[43mvalue\u001b[49m\u001b[43m)\u001b[49m\n",
      "File \u001b[0;32m~/.local/lib/python3.8/site-packages/pandas/core/frame.py:3754\u001b[0m, in \u001b[0;36mDataFrame._set_item_mgr\u001b[0;34m(self, key, value)\u001b[0m\n\u001b[1;32m   3751\u001b[0m     loc \u001b[38;5;241m=\u001b[39m \u001b[38;5;28mself\u001b[39m\u001b[38;5;241m.\u001b[39m_info_axis\u001b[38;5;241m.\u001b[39mget_loc(key)\n\u001b[1;32m   3752\u001b[0m \u001b[38;5;28;01mexcept\u001b[39;00m \u001b[38;5;167;01mKeyError\u001b[39;00m:\n\u001b[1;32m   3753\u001b[0m     \u001b[38;5;66;03m# This item wasn't present, just insert at end\u001b[39;00m\n\u001b[0;32m-> 3754\u001b[0m     \u001b[38;5;28;43mself\u001b[39;49m\u001b[38;5;241;43m.\u001b[39;49m\u001b[43m_mgr\u001b[49m\u001b[38;5;241;43m.\u001b[39;49m\u001b[43minsert\u001b[49m\u001b[43m(\u001b[49m\u001b[38;5;28;43mlen\u001b[39;49m\u001b[43m(\u001b[49m\u001b[38;5;28;43mself\u001b[39;49m\u001b[38;5;241;43m.\u001b[39;49m\u001b[43m_info_axis\u001b[49m\u001b[43m)\u001b[49m\u001b[43m,\u001b[49m\u001b[43m \u001b[49m\u001b[43mkey\u001b[49m\u001b[43m,\u001b[49m\u001b[43m \u001b[49m\u001b[43mvalue\u001b[49m\u001b[43m)\u001b[49m\n\u001b[1;32m   3755\u001b[0m \u001b[38;5;28;01melse\u001b[39;00m:\n\u001b[1;32m   3756\u001b[0m     \u001b[38;5;28mself\u001b[39m\u001b[38;5;241m.\u001b[39m_iset_item_mgr(loc, value)\n",
      "File \u001b[0;32m~/.local/lib/python3.8/site-packages/pandas/core/internals/managers.py:1162\u001b[0m, in \u001b[0;36mBlockManager.insert\u001b[0;34m(self, loc, item, value)\u001b[0m\n\u001b[1;32m   1159\u001b[0m \u001b[38;5;28;01melse\u001b[39;00m:\n\u001b[1;32m   1160\u001b[0m     value \u001b[38;5;241m=\u001b[39m ensure_block_shape(value, ndim\u001b[38;5;241m=\u001b[39m\u001b[38;5;28mself\u001b[39m\u001b[38;5;241m.\u001b[39mndim)\n\u001b[0;32m-> 1162\u001b[0m block \u001b[38;5;241m=\u001b[39m \u001b[43mnew_block\u001b[49m\u001b[43m(\u001b[49m\u001b[43mvalues\u001b[49m\u001b[38;5;241;43m=\u001b[39;49m\u001b[43mvalue\u001b[49m\u001b[43m,\u001b[49m\u001b[43m \u001b[49m\u001b[43mndim\u001b[49m\u001b[38;5;241;43m=\u001b[39;49m\u001b[38;5;28;43mself\u001b[39;49m\u001b[38;5;241;43m.\u001b[39;49m\u001b[43mndim\u001b[49m\u001b[43m,\u001b[49m\u001b[43m \u001b[49m\u001b[43mplacement\u001b[49m\u001b[38;5;241;43m=\u001b[39;49m\u001b[38;5;28;43mslice\u001b[39;49m\u001b[43m(\u001b[49m\u001b[43mloc\u001b[49m\u001b[43m,\u001b[49m\u001b[43m \u001b[49m\u001b[43mloc\u001b[49m\u001b[43m \u001b[49m\u001b[38;5;241;43m+\u001b[39;49m\u001b[43m \u001b[49m\u001b[38;5;241;43m1\u001b[39;49m\u001b[43m)\u001b[49m\u001b[43m)\u001b[49m\n\u001b[1;32m   1164\u001b[0m \u001b[38;5;28;01mfor\u001b[39;00m blkno, count \u001b[38;5;129;01min\u001b[39;00m _fast_count_smallints(\u001b[38;5;28mself\u001b[39m\u001b[38;5;241m.\u001b[39mblknos[loc:]):\n\u001b[1;32m   1165\u001b[0m     blk \u001b[38;5;241m=\u001b[39m \u001b[38;5;28mself\u001b[39m\u001b[38;5;241m.\u001b[39mblocks[blkno]\n",
      "File \u001b[0;32m~/.local/lib/python3.8/site-packages/pandas/core/internals/blocks.py:1932\u001b[0m, in \u001b[0;36mnew_block\u001b[0;34m(values, placement, ndim, klass)\u001b[0m\n\u001b[1;32m   1929\u001b[0m     placement \u001b[38;5;241m=\u001b[39m BlockPlacement(placement)\n\u001b[1;32m   1931\u001b[0m values, _ \u001b[38;5;241m=\u001b[39m extract_pandas_array(values, \u001b[38;5;28;01mNone\u001b[39;00m, ndim)\n\u001b[0;32m-> 1932\u001b[0m \u001b[43mcheck_ndim\u001b[49m\u001b[43m(\u001b[49m\u001b[43mvalues\u001b[49m\u001b[43m,\u001b[49m\u001b[43m \u001b[49m\u001b[43mplacement\u001b[49m\u001b[43m,\u001b[49m\u001b[43m \u001b[49m\u001b[43mndim\u001b[49m\u001b[43m)\u001b[49m\n\u001b[1;32m   1934\u001b[0m \u001b[38;5;28;01mif\u001b[39;00m klass \u001b[38;5;129;01mis\u001b[39;00m \u001b[38;5;28;01mNone\u001b[39;00m:\n\u001b[1;32m   1935\u001b[0m     klass \u001b[38;5;241m=\u001b[39m get_block_type(values, values\u001b[38;5;241m.\u001b[39mdtype)\n",
      "File \u001b[0;32m~/.local/lib/python3.8/site-packages/pandas/core/internals/blocks.py:1974\u001b[0m, in \u001b[0;36mcheck_ndim\u001b[0;34m(values, placement, ndim)\u001b[0m\n\u001b[1;32m   1969\u001b[0m         \u001b[38;5;28;01mraise\u001b[39;00m \u001b[38;5;167;01mValueError\u001b[39;00m(\n\u001b[1;32m   1970\u001b[0m             \u001b[38;5;124m\"\u001b[39m\u001b[38;5;124mWrong number of dimensions. \u001b[39m\u001b[38;5;124m\"\u001b[39m\n\u001b[1;32m   1971\u001b[0m             \u001b[38;5;124mf\u001b[39m\u001b[38;5;124m\"\u001b[39m\u001b[38;5;124mvalues.ndim != ndim [\u001b[39m\u001b[38;5;132;01m{\u001b[39;00mvalues\u001b[38;5;241m.\u001b[39mndim\u001b[38;5;132;01m}\u001b[39;00m\u001b[38;5;124m != \u001b[39m\u001b[38;5;132;01m{\u001b[39;00mndim\u001b[38;5;132;01m}\u001b[39;00m\u001b[38;5;124m]\u001b[39m\u001b[38;5;124m\"\u001b[39m\n\u001b[1;32m   1972\u001b[0m         )\n\u001b[1;32m   1973\u001b[0m     \u001b[38;5;28;01mif\u001b[39;00m \u001b[38;5;28mlen\u001b[39m(placement) \u001b[38;5;241m!=\u001b[39m \u001b[38;5;28mlen\u001b[39m(values):\n\u001b[0;32m-> 1974\u001b[0m         \u001b[38;5;28;01mraise\u001b[39;00m \u001b[38;5;167;01mValueError\u001b[39;00m(\n\u001b[1;32m   1975\u001b[0m             \u001b[38;5;124mf\u001b[39m\u001b[38;5;124m\"\u001b[39m\u001b[38;5;124mWrong number of items passed \u001b[39m\u001b[38;5;132;01m{\u001b[39;00m\u001b[38;5;28mlen\u001b[39m(values)\u001b[38;5;132;01m}\u001b[39;00m\u001b[38;5;124m, \u001b[39m\u001b[38;5;124m\"\u001b[39m\n\u001b[1;32m   1976\u001b[0m             \u001b[38;5;124mf\u001b[39m\u001b[38;5;124m\"\u001b[39m\u001b[38;5;124mplacement implies \u001b[39m\u001b[38;5;132;01m{\u001b[39;00m\u001b[38;5;28mlen\u001b[39m(placement)\u001b[38;5;132;01m}\u001b[39;00m\u001b[38;5;124m\"\u001b[39m\n\u001b[1;32m   1977\u001b[0m         )\n\u001b[1;32m   1978\u001b[0m \u001b[38;5;28;01melif\u001b[39;00m ndim \u001b[38;5;241m==\u001b[39m \u001b[38;5;241m2\u001b[39m \u001b[38;5;129;01mand\u001b[39;00m \u001b[38;5;28mlen\u001b[39m(placement) \u001b[38;5;241m!=\u001b[39m \u001b[38;5;241m1\u001b[39m:\n\u001b[1;32m   1979\u001b[0m     \u001b[38;5;66;03m# TODO(EA2D): special case unnecessary with 2D EAs\u001b[39;00m\n\u001b[1;32m   1980\u001b[0m     \u001b[38;5;28;01mraise\u001b[39;00m \u001b[38;5;167;01mValueError\u001b[39;00m(\u001b[38;5;124m\"\u001b[39m\u001b[38;5;124mneed to split\u001b[39m\u001b[38;5;124m\"\u001b[39m)\n",
      "\u001b[0;31mValueError\u001b[0m: Wrong number of items passed 2, placement implies 1"
     ]
    }
   ],
   "source": [
    "submission = pd.DataFrame()\n",
    "submission['horse'] = x_test['horse']\n",
    "submission['winner'] = model.predict_proba(x_test)\n",
    "\n",
    "print('submission', submission)\n",
    "\n",
    "submission.to_csv('submission.csv', index=False)"
   ]
  },
  {
   "cell_type": "code",
   "execution_count": null,
   "id": "3456fba2-a4aa-4ae4-a84f-fdbb73e68bcb",
   "metadata": {},
   "outputs": [],
   "source": []
  }
 ],
 "metadata": {
  "kernelspec": {
   "display_name": "Python 3 (ipykernel)",
   "language": "python",
   "name": "python3"
  },
  "language_info": {
   "codemirror_mode": {
    "name": "ipython",
    "version": 3
   },
   "file_extension": ".py",
   "mimetype": "text/x-python",
   "name": "python",
   "nbconvert_exporter": "python",
   "pygments_lexer": "ipython3",
   "version": "3.9.7"
  }
 },
 "nbformat": 4,
 "nbformat_minor": 5
}
