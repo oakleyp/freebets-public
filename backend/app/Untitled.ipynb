{
 "cells": [
  {
   "cell_type": "code",
   "execution_count": 19,
   "id": "b0f21f82-7c26-42e5-a3a0-2c40c02609fd",
   "metadata": {},
   "outputs": [],
   "source": [
    "import math\n",
    "from typing import List, Tuple\n",
    "\n",
    "from app.models.race import Race\n",
    "from app.models.race_entry import RaceEntry\n",
    "import hyperopt\n",
    "from app.db.session import SessionLocal\n",
    "import random\n",
    "\n"
   ]
  },
  {
   "cell_type": "code",
   "execution_count": 45,
   "id": "3529f33f-cddd-4722-b6d6-1affc947e111",
   "metadata": {},
   "outputs": [],
   "source": [
    "# Track Rebate\n",
    "Q = 0\n",
    "\n",
    "# Based on Dr. Z's place-show optimization formula\n",
    "\n",
    "def get_place_show_all_utility(race: Race, place_outlay: float, show_outlay: float, total_wealth: float) -> float:\n",
    "    entries: List[RaceEntry] = race.active_entries()\n",
    "\n",
    "    total: float = 0\n",
    "\n",
    "    for i in range(len(entries)):\n",
    "        i_total: float = 0\n",
    "\n",
    "        for j in range(len(entries)):\n",
    "            if j == i:\n",
    "                continue\n",
    "\n",
    "            j_total: float = 0\n",
    "\n",
    "            for k in range(len(entries)):\n",
    "                if k == i or k == j:\n",
    "                    continue\n",
    "\n",
    "                k_total: float = 0\n",
    "\n",
    "                qi = 1 / entries[i].latest_odds()\n",
    "                qj = 1 / entries[j].latest_odds()\n",
    "                qk = 1 / entries[k].latest_odds()\n",
    "                \n",
    "                # print(qi, qj, qk)\n",
    "\n",
    "                harville_prob_place_show = (qi * qj * qk) /  ((1-qi) * (1-qi-qj))\n",
    "                rebate = calc_rebate(race, entries, place_outlay, show_outlay, i, j, k, total_wealth)\n",
    "                \n",
    "                # print(harville_prob_place_show, rebate)\n",
    "\n",
    "                k_total += (harville_prob_place_show * math.log(rebate))\n",
    "                j_total += k_total\n",
    "\n",
    "            i_total += j_total\n",
    "\n",
    "        total += i_total\n",
    "\n",
    "    return total\n",
    "\n",
    "def calc_rebate(race: Race, entries: List[RaceEntry], place_outlay: float, show_outlay: float, i: int, j: int, k: int, w0: float) -> float:\n",
    "    P = race.place_pool_total\n",
    "    S = race.show_pool_total\n",
    "    P_i = entries[i].place_pool_total\n",
    "    P_j = entries[j].place_pool_total\n",
    "    P_ij = P_i + P_j\n",
    "    p_i = place_outlay # Could vary\n",
    "    p_j = place_outlay # Could vary\n",
    "    p_l = lambda l: place_outlay # Could vary\n",
    "\n",
    "    s_l = lambda l: show_outlay # Could vary\n",
    "    s_i = show_outlay\n",
    "    s_j = show_outlay\n",
    "    s_k = show_outlay\n",
    "    S_i = entries[i].show_pool_total\n",
    "    S_j = entries[j].show_pool_total\n",
    "    S_k = entries[k].show_pool_total\n",
    "    S_ijk = S_i + S_j + S_k\n",
    "\n",
    "    player_place_total_outlay = sum([p_l(i) for i in range(len(entries))])\n",
    "\n",
    "    first = ((Q * (P + player_place_total_outlay)) - (p_i + p_j + P_ij)) / 2\n",
    "    second = (p_i / (p_i + P_i)) + (p_j / (p_j + P_j))\n",
    "\n",
    "    player_show_total_outlay = sum([s_l(i) for i in range(len(entries))])\n",
    "    third = ((Q * (S + player_show_total_outlay)) - (s_i + s_j + s_k + S_ijk)) / 3\n",
    "\n",
    "    fourth = (s_i / (s_i + S_i)) + (s_j / (s_j + S_j)) + (s_k / (s_k + S_k))\n",
    "\n",
    "    outer_total: float = 0\n",
    "    for i_2 in range(len(entries)):\n",
    "        if i_2 == i or i_2 == j or i_2 == k:\n",
    "            continue\n",
    "\n",
    "        inner_total: float = 0\n",
    "        \n",
    "        for i_3 in range(len(entries)):\n",
    "            if i_3 == i_2 or i_3 == j:\n",
    "                continue\n",
    "\n",
    "            inner_total += p_l(i_3)\n",
    "        \n",
    "        outer_total += (s_l(i_2) - inner_total)\n",
    "\n",
    "    fifth = outer_total\n",
    "    \n",
    "    # print(first * second + third * fourth, w0, fifth)\n",
    "\n",
    "    total = first * second + third * fourth + w0 - fifth\n",
    "    \n",
    "    return total"
   ]
  },
  {
   "cell_type": "code",
   "execution_count": 46,
   "id": "177b4701-4c52-4be1-80b3-2e5d4b658426",
   "metadata": {},
   "outputs": [],
   "source": [
    "def hyperopt_objective(params) -> float:\n",
    "    expected_utility = get_place_show_all_utility(\n",
    "        params['race'],\n",
    "        params['place_outlay'],\n",
    "        params['show_outlay'],\n",
    "        params['total_wealth'],\n",
    "    )\n",
    "\n",
    "    return 0 - expected_utility\n",
    "\n",
    "def get_best_place_show_bets_all(race: Race, total_wealth: float):\n",
    "    trials = hyperopt.Trials()\n",
    "\n",
    "    max_possible_bet = total_wealth / len(race.entries) / 2\n",
    "\n",
    "    params_space = {\n",
    "        'race': race,\n",
    "        'place_outlay': hyperopt.hp.uniform('place_outlay', 2, max_possible_bet),\n",
    "        'show_outlay': hyperopt.hp.uniform('show_outlay', 2, max_possible_bet),\n",
    "        'total_wealth': hyperopt.hp.uniform('total_wealth', 50.0, total_wealth),\n",
    "    }\n",
    "\n",
    "\n",
    "    best = hyperopt.fmin(\n",
    "        hyperopt_objective,\n",
    "        space=params_space,\n",
    "        algo=hyperopt.tpe.suggest,\n",
    "        max_evals=50,\n",
    "        trials=trials,\n",
    "    )\n",
    "\n",
    "    return best"
   ]
  },
  {
   "cell_type": "code",
   "execution_count": 47,
   "id": "f75a8921-1c21-4136-abc2-7e14f7530518",
   "metadata": {},
   "outputs": [],
   "source": [
    "db = SessionLocal()"
   ]
  },
  {
   "cell_type": "code",
   "execution_count": 51,
   "id": "ada88637-ae33-43a5-8101-f78b24118d7e",
   "metadata": {},
   "outputs": [
    {
     "name": "stdout",
     "output_type": "stream",
     "text": [
      "1.0\n",
      "3370287.0 3245946.0 2991371.0\n"
     ]
    }
   ],
   "source": [
    "races = db.query(Race).all()\n",
    "race = races[random.randint(0, len(races)-1)]\n",
    "\n",
    "print(sum([1/entry.latest_odds() for entry in race.active_entries()]))\n",
    "print(race.win_pool_total, race.place_pool_total, race.show_pool_total)"
   ]
  },
  {
   "cell_type": "code",
   "execution_count": 52,
   "id": "ef67f4df-bc01-43b6-8deb-8ed95dd71c81",
   "metadata": {},
   "outputs": [
    {
     "name": "stdout",
     "output_type": "stream",
     "text": [
      "100%|██████████████████████████████████████████████████████████████████████████████████████████████████████████████████████████████████████████████████████████████████████████████████████████████████████████████████████████████████████████████████████████████████████████████████████████████████████████| 50/50 [00:01<00:00, 30.04trial/s, best loss: -5.206712941718151]\n"
     ]
    }
   ],
   "source": [
    "best = get_best_place_show_bets_all(race, 51)"
   ]
  },
  {
   "cell_type": "code",
   "execution_count": 53,
   "id": "21e90678-0a42-456b-8826-c16917fc91b3",
   "metadata": {},
   "outputs": [
    {
     "data": {
      "text/plain": [
       "5.206712941718151"
      ]
     },
     "execution_count": 53,
     "metadata": {},
     "output_type": "execute_result"
    }
   ],
   "source": [
    "get_place_show_all_utility(race, best['place_outlay'], best['show_outlay'], best['total_wealth'])"
   ]
  },
  {
   "cell_type": "code",
   "execution_count": 43,
   "id": "55e57a0f-51f4-4176-99f5-c8260ace93d2",
   "metadata": {},
   "outputs": [
    {
     "data": {
      "text/plain": [
       "{'place_outlay': 2.316463545157033,\n",
       " 'show_outlay': 2.004902914548703,\n",
       " 'total_wealth': 50.98162248557375}"
      ]
     },
     "execution_count": 43,
     "metadata": {},
     "output_type": "execute_result"
    }
   ],
   "source": [
    "best"
   ]
  },
  {
   "cell_type": "code",
   "execution_count": null,
   "id": "b5d80f8b-598e-4436-bf72-3e04bd3f366b",
   "metadata": {},
   "outputs": [],
   "source": []
  }
 ],
 "metadata": {
  "kernelspec": {
   "display_name": "Python 3 (ipykernel)",
   "language": "python",
   "name": "python3"
  },
  "language_info": {
   "codemirror_mode": {
    "name": "ipython",
    "version": 3
   },
   "file_extension": ".py",
   "mimetype": "text/x-python",
   "name": "python",
   "nbconvert_exporter": "python",
   "pygments_lexer": "ipython3",
   "version": "3.9.7"
  }
 },
 "nbformat": 4,
 "nbformat_minor": 5
}
