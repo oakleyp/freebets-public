{
 "cells": [
  {
   "cell_type": "code",
   "execution_count": 1,
   "id": "b0f21f82-7c26-42e5-a3a0-2c40c02609fd",
   "metadata": {},
   "outputs": [],
   "source": [
    "%load_ext autoreload\n",
    "%autoreload 2\n",
    "\n"
   ]
  },
  {
   "cell_type": "code",
   "execution_count": 2,
   "id": "e26d49fa-9fe8-4bb9-b9ad-26282bd859ed",
   "metadata": {},
   "outputs": [],
   "source": [
    "import math\n",
    "from typing import List, Tuple, Callable\n",
    "\n",
    "from app.models.race import Race\n",
    "from app.models.race_entry import RaceEntry\n",
    "import hyperopt\n",
    "from app.db.session import SessionLocal\n",
    "import random\n",
    "from pydantic import BaseModel\n",
    "from decimal import Decimal\n",
    "\n",
    "from app.raceday.bet_strategy.dr_z_eq import get_best_place_show_bets_all"
   ]
  },
  {
   "cell_type": "code",
   "execution_count": 14,
   "id": "177b4701-4c52-4be1-80b3-2e5d4b658426",
   "metadata": {},
   "outputs": [],
   "source": [
    "# Track Payback (1 - (track take % / 100))\n",
    "# This assumes 17% track take\n",
    "Q = 0.83\n",
    "\n",
    "# Based on Dr. Z's place-show optimization formula\n",
    "\n",
    "def get_place_show_all_utility(race: Race, p_l: Callable, s_l: Callable, total_wealth: float) -> float:\n",
    "    entries: List[RaceEntry] = race.active_entries()\n",
    "\n",
    "    total: float = 0\n",
    "\n",
    "    for i in range(len(entries)):\n",
    "        i_total: float = 0\n",
    "\n",
    "        for j in range(len(entries)):\n",
    "            if j == i:\n",
    "                continue\n",
    "\n",
    "            j_total: float = 0\n",
    "\n",
    "            for k in range(len(entries)):\n",
    "                if k == i or k == j:\n",
    "                    continue\n",
    "\n",
    "                k_total: float = 0\n",
    "\n",
    "                q_i = 1 / entries[i].latest_odds()\n",
    "                q_j = 1 / entries[j].latest_odds()\n",
    "                q_k = 1 / entries[k].latest_odds()\n",
    "                \n",
    "                # TODO: Is there a better alternative to harville probability?\n",
    "                harville_prob_place_show = (q_i * q_j * q_k) /  ((1-q_i) * (1-q_i-q_j))\n",
    "                rebate = calc_rebate(race, entries, place_outlay, show_outlay, i, j, k, total_wealth)\n",
    "                \n",
    "                k_total += (harville_prob_place_show * math.log(rebate))\n",
    "                j_total += k_total\n",
    "\n",
    "            i_total += j_total\n",
    "\n",
    "        total += i_total\n",
    "\n",
    "    return total\n",
    "\n",
    "def calc_rebate(race: Race, entries: List[RaceEntry], place_outlay: float, show_outlay: float, i: int, j: int, k: int, w0: float) -> float:\n",
    "    P = race.place_pool_total\n",
    "    S = race.show_pool_total\n",
    "    P_i = entries[i].place_pool_total\n",
    "    P_j = entries[j].place_pool_total\n",
    "    P_ij = P_i + P_j\n",
    "    p_i = place_outlay # Could vary\n",
    "    p_j = place_outlay # Could vary\n",
    "    p_l = lambda l: place_outlay # Could vary\n",
    "\n",
    "    s_l = lambda l: show_outlay # Could vary\n",
    "    s_i = show_outlay\n",
    "    s_j = show_outlay\n",
    "    s_k = show_outlay\n",
    "    S_i = entries[i].show_pool_total\n",
    "    S_j = entries[j].show_pool_total\n",
    "    S_k = entries[k].show_pool_total\n",
    "    S_ijk = S_i + S_j + S_k\n",
    "\n",
    "    player_place_total_outlay = sum([p_l(i) for i in range(len(entries))])\n",
    "    place_bet_return = ((Q * (P + player_place_total_outlay)) - (p_i + p_j + P_ij)) / 2\n",
    "    place_bet_effect = (p_i / (p_i + P_i)) + (p_j / (p_j + P_j))\n",
    "\n",
    "    player_show_total_outlay = sum([s_l(i) for i in range(len(entries))])\n",
    "    show_bet_return = ((Q * (S + player_show_total_outlay)) - (s_i + s_j + s_k + S_ijk)) / 3\n",
    "    show_bet_effect = (s_i / (s_i + S_i)) + (s_j / (s_j + S_j)) + (s_k / (s_k + S_k))\n",
    "\n",
    "    sum_s_l: float = 0\n",
    "    for i_2 in range(len(entries)):\n",
    "        if i_2 == i or i_2 == j or i_2 == k:\n",
    "            continue\n",
    "    \n",
    "        sum_s_l += s_l(i_2)\n",
    "        \n",
    "    sum_p_l: float = 0\n",
    "    for i_2 in range(len(entries)):\n",
    "        if i_2 == i or i_2 == j:\n",
    "            continue\n",
    "            \n",
    "        sum_p_l += p_l(i_2)\n",
    "    \n",
    "    total = (place_bet_return * place_bet_effect) + (show_bet_return * show_bet_effect) + (w0 - sum_s_l - sum_p_l)\n",
    "\n",
    "    assert total > 0, (\n",
    "        f\"domain error: pl={p_l(0)}; sl={s_l(0)}; \"\n",
    "        f\"({place_bet_return} * {place_bet_effect} = {place_bet_return * place_bet_effect})\" \n",
    "        f\" + ({show_bet_return} * {show_bet_effect} = {show_bet_return * show_bet_effect})\"\n",
    "        f\" + {w0} - {sum_s_l} - {sum_p_l} = {total}\"\n",
    "    )\n",
    "    \n",
    "    return total\n",
    "\n",
    "def hyperopt_objective(params) -> float:\n",
    "    expected_utility = get_place_show_all_utility(\n",
    "        params['race'],\n",
    "        params['place_outlay'],\n",
    "        params['show_outlay'],\n",
    "        params['total_wealth'],\n",
    "    )\n",
    "\n",
    "    return 0 - expected_utility\n",
    "\n",
    "\n",
    "class DrZPlaceShowResult(BaseModel):\n",
    "    total_outlay: float\n",
    "    place_outlay: float\n",
    "    show_outlay: float\n",
    "    expected_value: float\n",
    "\n",
    "\n",
    "def get_best_place_show_bets_all(race: Race, max_spend: float) -> DrZPlaceShowResult:\n",
    "    trials = hyperopt.Trials()\n",
    "\n",
    "    max_possible_bet = max_spend / len(race.entries) / 2\n",
    "\n",
    "    # Start value of 2 is based on Keeneland min bet, may vary\n",
    "    params_space = {\n",
    "        'race': race,\n",
    "        'place_outlay': hyperopt.hp.uniform('place_outlay', 2, max_possible_bet),\n",
    "        'show_outlay': hyperopt.hp.uniform('show_outlay', 2, max_possible_bet),\n",
    "        'total_wealth': max_spend,\n",
    "    }\n",
    "\n",
    "\n",
    "    best = hyperopt.fmin(\n",
    "        hyperopt_objective,\n",
    "        space=params_space,\n",
    "        algo=hyperopt.tpe.suggest,\n",
    "        max_evals=50,\n",
    "        trials=trials,\n",
    "    )\n",
    "\n",
    "    total_outlay = max_spend\n",
    "    place_outlay = best['place_outlay']\n",
    "    show_outlay = best['show_outlay']\n",
    "\n",
    "    expected_value = get_place_show_all_utility(race, place_outlay, show_outlay, total_outlay)\n",
    "\n",
    "    return DrZPlaceShowResult(\n",
    "        total_outlay=total_outlay,\n",
    "        place_outlay=place_outlay,\n",
    "        show_outlay=show_outlay,\n",
    "        expected_value=expected_value,\n",
    "    )"
   ]
  },
  {
   "cell_type": "code",
   "execution_count": 3,
   "id": "f75a8921-1c21-4136-abc2-7e14f7530518",
   "metadata": {},
   "outputs": [],
   "source": [
    "db = SessionLocal()"
   ]
  },
  {
   "cell_type": "code",
   "execution_count": 7,
   "id": "ada88637-ae33-43a5-8101-f78b24118d7e",
   "metadata": {},
   "outputs": [
    {
     "name": "stdout",
     "output_type": "stream",
     "text": [
      "1.0\n",
      "<RaceEntry(id=231458,name='Resolution Tree',program_no='10',win_pool_total=273092.1511627907,place_pool_total=273092.1511627907,show_pool_total=273092.1511627907,odds=6.88)>\n",
      "1878874.0000000002 1878874.0000000002 1878874.0000000002\n"
     ]
    }
   ],
   "source": [
    "races = db.query(Race).all()\n",
    "race = races[random.randint(0, len(races)-1)]\n",
    "\n",
    "print(sum([1/entry.latest_odds() for entry in race.active_entries()]))\n",
    "entries_sorted = race.entries.copy()\n",
    "entries_sorted.sort(key=lambda x: x.latest_odds())\n",
    "print(entries_sorted[0])\n",
    "print(race.win_pool_total, race.place_pool_total, race.show_pool_total)"
   ]
  },
  {
   "cell_type": "code",
   "execution_count": 8,
   "id": "ef67f4df-bc01-43b6-8deb-8ed95dd71c81",
   "metadata": {},
   "outputs": [
    {
     "name": "stdout",
     "output_type": "stream",
     "text": [
      "15\n",
      "100%|████████████████████████████████████████████████████████████████████████████████████████████████████████████████████████████████████████████████████████████████| 50/50 [00:02<00:00, 18.64trial/s, best loss: -4.4441284366783025]\n"
     ]
    }
   ],
   "source": [
    "print(len(race.active_entries()))\n",
    "best = get_best_place_show_bets_all(race, 100)"
   ]
  },
  {
   "cell_type": "code",
   "execution_count": 9,
   "id": "db7029f3-dcf8-484a-a6b8-74fc97749200",
   "metadata": {},
   "outputs": [
    {
     "name": "stdout",
     "output_type": "stream",
     "text": [
      "total_outlay=100.0 place_outlay=2.048363823265843 show_outlay=2.023942262233154 expected_value=4.4441284366783025\n"
     ]
    },
    {
     "data": {
      "text/plain": [
       "15"
      ]
     },
     "execution_count": 9,
     "metadata": {},
     "output_type": "execute_result"
    }
   ],
   "source": [
    "print(best)\n",
    "len(race.active_entries())"
   ]
  },
  {
   "cell_type": "code",
   "execution_count": 7,
   "id": "55e57a0f-51f4-4176-99f5-c8260ace93d2",
   "metadata": {},
   "outputs": [],
   "source": [
    "from app.raceday.bet_strategy.bet_strategies import PlaceBet, ShowBet, DrZPlaceShowArbBet, BetStrategy, FlatBetOutlayStrategy, AvgCostRewardSortStrategy"
   ]
  },
  {
   "cell_type": "code",
   "execution_count": 8,
   "id": "0422359b-2362-4d01-9734-37308a64e4bb",
   "metadata": {},
   "outputs": [],
   "source": [
    "DefaultBetStrategy = BetStrategy(\n",
    "    outlay_strategy=FlatBetOutlayStrategy(), sort_strategy=AvgCostRewardSortStrategy(),\n",
    ")"
   ]
  },
  {
   "cell_type": "code",
   "execution_count": 9,
   "id": "b5d80f8b-598e-4436-bf72-3e04bd3f366b",
   "metadata": {},
   "outputs": [],
   "source": [
    "pb = PlaceBet(race=race, entries=race.active_entries(), selection=[entries_sorted[0]], strategy=DefaultBetStrategy)"
   ]
  },
  {
   "cell_type": "code",
   "execution_count": 10,
   "id": "fe4fa393-c691-46bd-a83c-21069d91de44",
   "metadata": {},
   "outputs": [],
   "source": [
    "from app.raceday.bet_strategy.bet_strategies import calc_avg_place_reward, calc_place_reward_redux, calc_place_reward, calc_show_reward, calc_avg_show_reward"
   ]
  },
  {
   "cell_type": "code",
   "execution_count": 11,
   "id": "dc40fc23-5fbf-4131-95ab-7e44d7295d03",
   "metadata": {},
   "outputs": [
    {
     "name": "stdout",
     "output_type": "stream",
     "text": [
      "100%|█████████████████████████████████████████████████████████████████████████████████████████████████████████████████████████████████████████████████████████████████| 50/50 [00:01<00:00, 30.43trial/s, best loss: -4.532887551122606]\n"
     ]
    }
   ],
   "source": [
    "drzb = DrZPlaceShowArbBet(race=race, entries=race.active_entries(), selection=[race.active_entries()], strategy=DefaultBetStrategy)"
   ]
  },
  {
   "cell_type": "code",
   "execution_count": 12,
   "id": "16bc1a7a-56f6-423d-94d2-a191103b952b",
   "metadata": {},
   "outputs": [
    {
     "data": {
      "text/plain": [
       "471.420305316751"
      ]
     },
     "execution_count": 12,
     "metadata": {},
     "output_type": "execute_result"
    }
   ],
   "source": [
    "drzb.avg_reward()"
   ]
  },
  {
   "cell_type": "code",
   "execution_count": 13,
   "id": "8d0f5098-8cb0-4ea9-b737-c0be784da41a",
   "metadata": {},
   "outputs": [
    {
     "name": "stdout",
     "output_type": "stream",
     "text": [
      "[<PlaceBet(cost=2.055661112551471, min_reward=0, avg_reward=0.18014380420327905, max_reward=24.23503113889233)>, <PlaceBet(cost=2.055661112551471, min_reward=0, avg_reward=0.6485176951318047, max_reward=20.486941302836918)>, <ShowBet(cost=2.2240020859012506, min_reward=0, avg_reward=0.11123624610985443, max_reward=15.199141090192878)>, <ShowBet(cost=2.2240020859012506, min_reward=0, avg_reward=0.40045048599547595, max_reward=12.104865743984297)>, <ShowBet(cost=2.2240020859012506, min_reward=0, avg_reward=0.1557307445537962, max_reward=11.549412844129343)>]\n"
     ]
    },
    {
     "data": {
      "text/plain": [
       "94.35872060284247"
      ]
     },
     "execution_count": 13,
     "metadata": {},
     "output_type": "execute_result"
    }
   ],
   "source": [
    "drzb.max_reward()"
   ]
  },
  {
   "cell_type": "code",
   "execution_count": 25,
   "id": "f8c3c721-4353-45d9-8fc4-53b42c850d11",
   "metadata": {},
   "outputs": [
    {
     "data": {
      "text/plain": [
       "120.0"
      ]
     },
     "execution_count": 25,
     "metadata": {},
     "output_type": "execute_result"
    }
   ],
   "source": [
    "drzb.cost()"
   ]
  },
  {
   "cell_type": "code",
   "execution_count": null,
   "id": "69eecf24-5ad3-4ebc-8dbf-dfdd5fcba924",
   "metadata": {},
   "outputs": [],
   "source": []
  }
 ],
 "metadata": {
  "kernelspec": {
   "display_name": "Python 3 (ipykernel)",
   "language": "python",
   "name": "python3"
  },
  "language_info": {
   "codemirror_mode": {
    "name": "ipython",
    "version": 3
   },
   "file_extension": ".py",
   "mimetype": "text/x-python",
   "name": "python",
   "nbconvert_exporter": "python",
   "pygments_lexer": "ipython3",
   "version": "3.9.7"
  }
 },
 "nbformat": 4,
 "nbformat_minor": 5
}
