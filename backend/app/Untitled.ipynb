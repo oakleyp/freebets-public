{
 "cells": [
  {
   "cell_type": "code",
   "execution_count": 1,
   "id": "b0f21f82-7c26-42e5-a3a0-2c40c02609fd",
   "metadata": {},
   "outputs": [],
   "source": [
    "%load_ext autoreload\n",
    "%autoreload 2\n",
    "\n"
   ]
  },
  {
   "cell_type": "code",
   "execution_count": 2,
   "id": "e26d49fa-9fe8-4bb9-b9ad-26282bd859ed",
   "metadata": {},
   "outputs": [],
   "source": [
    "import math\n",
    "from typing import List, Tuple, Callable\n",
    "\n",
    "from app.models.race import Race\n",
    "from app.models.race_entry import RaceEntry\n",
    "from app.models.bet import Bet\n",
    "from app.raceday.bet_strategy.generator import BetGen\n",
    "import hyperopt\n",
    "from app.db.session import SessionLocal\n",
    "import random\n",
    "from pydantic import BaseModel\n",
    "from decimal import Decimal\n",
    "from sqlalchemy.orm import make_transient\n"
   ]
  },
  {
   "cell_type": "code",
   "execution_count": 3,
   "id": "f75a8921-1c21-4136-abc2-7e14f7530518",
   "metadata": {},
   "outputs": [],
   "source": [
    "db = SessionLocal()"
   ]
  },
  {
   "cell_type": "code",
   "execution_count": 4,
   "id": "ada88637-ae33-43a5-8101-f78b24118d7e",
   "metadata": {},
   "outputs": [
    {
     "name": "stdout",
     "output_type": "stream",
     "text": [
      "<Race(id=24549,race_number=5,race_date=datetime.date(2022, 7, 16),track_code='ifh',post_time=datetime.datetime(2022, 7, 16, 20, 59, 29, 240606, tzinfo=datetime.timezone.utc),current_race=True,win_pool_total=37134553.4393764,place_pool_total=47457675.057842776,show_pool_total=36301753.324903816)>\n",
      "1.0\n",
      "<RaceEntry(id=401604,name='Welcome',program_no='5',win_pool_total=3865105.4644470476,place_pool_total=5522398.460330129,show_pool_total=5522398.460330129,odds=4.25)>\n",
      "37134553.4393764 47457675.057842776 36301753.324903816\n"
     ]
    }
   ],
   "source": [
    "races = db.query(Race).all()\n",
    "race = races[random.randint(0, len(races)-1)]\n",
    "\n",
    "print(race)\n",
    "print(sum([1/entry.latest_odds() for entry in race.active_entries()]))\n",
    "entries_sorted = race.entries.copy()\n",
    "entries_sorted.sort(key=lambda x: x.latest_odds())\n",
    "print(entries_sorted[0])\n",
    "print(race.win_pool_total, race.place_pool_total, race.show_pool_total)"
   ]
  },
  {
   "cell_type": "code",
   "execution_count": 5,
   "id": "0a546b1f-f9fb-4860-baa4-af1c083b9150",
   "metadata": {},
   "outputs": [],
   "source": [
    "bet_gen = BetGen(race=race, use_pool_totals=True)"
   ]
  },
  {
   "cell_type": "code",
   "execution_count": 6,
   "id": "e773289e-1b98-4b04-bf8b-c5a9b037cd7f",
   "metadata": {},
   "outputs": [],
   "source": [
    "all_bets = bet_gen.all_bets()"
   ]
  },
  {
   "cell_type": "code",
   "execution_count": 7,
   "id": "cbd0f35f-42e8-4a70-a6e8-46fd62dcc253",
   "metadata": {},
   "outputs": [
    {
     "data": {
      "text/plain": [
       "[<DrZPlaceBet(cost=2, min_reward=0, avg_reward=3.293045235879772, max_reward=11.807783991413887)>,\n",
       " <DrZPlaceShowArbBet(cost=8, min_reward=0, avg_reward=11.158950724387388, max_reward=39.306248639442806)>,\n",
       " <DrZShowBet(cost=2, min_reward=0, avg_reward=2.72043952114237, max_reward=5.648133579140738)>,\n",
       " <DrZPlaceBet(cost=2, min_reward=0, avg_reward=2.7097111054753706, max_reward=8.797385478003887)>,\n",
       " <DrZShowBet(cost=2, min_reward=0, avg_reward=2.4357548618898734, max_reward=5.052945590884289)>,\n",
       " <WinAllArbBet(cost=12, min_reward=8.5, avg_reward=2.333333333333333, max_reward=26.714285714285715)>]"
      ]
     },
     "execution_count": 7,
     "metadata": {},
     "output_type": "execute_result"
    }
   ],
   "source": [
    "all_bets"
   ]
  },
  {
   "cell_type": "code",
   "execution_count": 8,
   "id": "393aaf76-0302-4767-ace1-cc1562dedc78",
   "metadata": {},
   "outputs": [],
   "source": [
    "all_bets2 = bet_gen.all_bets()"
   ]
  },
  {
   "cell_type": "code",
   "execution_count": 9,
   "id": "b5f74882-018e-4e13-ba1d-780ef369054d",
   "metadata": {},
   "outputs": [
    {
     "data": {
      "text/plain": [
       "[<DrZPlaceBet(cost=2, min_reward=0, avg_reward=3.293045235879772, max_reward=11.807783991413887)>,\n",
       " <DrZPlaceShowArbBet(cost=8, min_reward=0, avg_reward=11.158950724387388, max_reward=39.306248639442806)>,\n",
       " <DrZShowBet(cost=2, min_reward=0, avg_reward=2.72043952114237, max_reward=5.648133579140738)>,\n",
       " <DrZPlaceBet(cost=2, min_reward=0, avg_reward=2.7097111054753706, max_reward=8.797385478003887)>,\n",
       " <DrZShowBet(cost=2, min_reward=0, avg_reward=2.4357548618898734, max_reward=5.052945590884289)>,\n",
       " <WinAllArbBet(cost=12, min_reward=8.5, avg_reward=2.333333333333333, max_reward=26.714285714285715)>]"
      ]
     },
     "execution_count": 9,
     "metadata": {},
     "output_type": "execute_result"
    }
   ],
   "source": [
    "all_bets2"
   ]
  },
  {
   "cell_type": "code",
   "execution_count": 24,
   "id": "f2c4f6f3-2c5e-4744-8a16-f811e7d09b4f",
   "metadata": {},
   "outputs": [],
   "source": [
    "bet1 = all_bets[1].result().to_bet_db()"
   ]
  },
  {
   "cell_type": "code",
   "execution_count": 17,
   "id": "2836c62c-1063-499f-9a62-66367a175407",
   "metadata": {},
   "outputs": [],
   "source": [
    "bet2 = all_bets2[1].result().to_bet_db()"
   ]
  },
  {
   "cell_type": "code",
   "execution_count": 25,
   "id": "a8a17f08-f7a1-411f-9d01-a8f887394142",
   "metadata": {},
   "outputs": [
    {
     "data": {
      "text/plain": [
       "'34d2e3c08b3a7136243f4a613fb40a2d'"
      ]
     },
     "execution_count": 25,
     "metadata": {},
     "output_type": "execute_result"
    }
   ],
   "source": [
    "bet1.md5_hash().hexdigest()"
   ]
  },
  {
   "cell_type": "code",
   "execution_count": 22,
   "id": "c5751ca2-e2a4-4423-8803-f870de6af38f",
   "metadata": {},
   "outputs": [
    {
     "data": {
      "text/plain": [
       "'34d2e3c08b3a7136243f4a613fb40a2d'"
      ]
     },
     "execution_count": 22,
     "metadata": {},
     "output_type": "execute_result"
    }
   ],
   "source": [
    "bet2.md5_hash().hexdigest()"
   ]
  },
  {
   "cell_type": "code",
   "execution_count": 30,
   "id": "4990a8fa-182b-4e87-819a-84defd64fe02",
   "metadata": {},
   "outputs": [
    {
     "data": {
      "text/plain": [
       "2.7097111054753706"
      ]
     },
     "execution_count": 30,
     "metadata": {},
     "output_type": "execute_result"
    }
   ],
   "source": [
    "bet1.sub_bets[0].avg_reward"
   ]
  },
  {
   "cell_type": "code",
   "execution_count": 19,
   "id": "de4866a4-c31c-43cd-980f-54701092b1d8",
   "metadata": {},
   "outputs": [
    {
     "data": {
      "text/plain": [
       "'d2e443b09f94ecd6502c13a30c8860bb'"
      ]
     },
     "execution_count": 19,
     "metadata": {},
     "output_type": "execute_result"
    }
   ],
   "source": [
    "bet"
   ]
  },
  {
   "cell_type": "code",
   "execution_count": null,
   "id": "5cc993e2-16ac-4348-b5c8-b6484e4f0e01",
   "metadata": {},
   "outputs": [],
   "source": []
  }
 ],
 "metadata": {
  "kernelspec": {
   "display_name": "Python 3 (ipykernel)",
   "language": "python",
   "name": "python3"
  },
  "language_info": {
   "codemirror_mode": {
    "name": "ipython",
    "version": 3
   },
   "file_extension": ".py",
   "mimetype": "text/x-python",
   "name": "python",
   "nbconvert_exporter": "python",
   "pygments_lexer": "ipython3",
   "version": "3.9.7"
  }
 },
 "nbformat": 4,
 "nbformat_minor": 5
}
