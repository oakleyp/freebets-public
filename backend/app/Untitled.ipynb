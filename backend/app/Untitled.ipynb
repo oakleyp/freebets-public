{
 "cells": [
  {
   "cell_type": "code",
   "execution_count": 1,
   "id": "b0f21f82-7c26-42e5-a3a0-2c40c02609fd",
   "metadata": {},
   "outputs": [],
   "source": [
    "%load_ext autoreload\n",
    "%autoreload 2\n",
    "\n"
   ]
  },
  {
   "cell_type": "code",
   "execution_count": 2,
   "id": "e26d49fa-9fe8-4bb9-b9ad-26282bd859ed",
   "metadata": {},
   "outputs": [],
   "source": [
    "import math\n",
    "from typing import List, Tuple, Callable\n",
    "\n",
    "from app.models.race import Race\n",
    "from app.models.race_entry import RaceEntry\n",
    "from app.models.bet import Bet\n",
    "import hyperopt\n",
    "from app.db.session import SessionLocal\n",
    "import random\n",
    "from pydantic import BaseModel\n",
    "from decimal import Decimal\n"
   ]
  },
  {
   "cell_type": "code",
   "execution_count": 3,
   "id": "f75a8921-1c21-4136-abc2-7e14f7530518",
   "metadata": {},
   "outputs": [],
   "source": [
    "db = SessionLocal()"
   ]
  },
  {
   "cell_type": "code",
   "execution_count": 23,
   "id": "ada88637-ae33-43a5-8101-f78b24118d7e",
   "metadata": {},
   "outputs": [
    {
     "name": "stdout",
     "output_type": "stream",
     "text": [
      "<Race(id=23459,race_number=3,race_date=datetime.date(2022, 7, 15),track_code='yvw',post_time=datetime.datetime(2022, 7, 15, 16, 15, 26, 976832, tzinfo=datetime.timezone.utc),current_race=False,win_pool_total=0.0,place_pool_total=0.0,show_pool_total=0.0)>\n",
      "0.9999999999999999\n",
      "<RaceEntry(id=391372,name='Cage Commerce',program_no='5',win_pool_total=0.0,place_pool_total=0.0,show_pool_total=0.0,odds=3.7083333333333335)>\n",
      "0.0 0.0 0.0\n"
     ]
    }
   ],
   "source": [
    "races = db.query(Race).all()\n",
    "race = races[random.randint(0, len(races)-1)]\n",
    "\n",
    "print(race)\n",
    "print(sum([1/entry.latest_odds() for entry in race.active_entries()]))\n",
    "entries_sorted = race.entries.copy()\n",
    "entries_sorted.sort(key=lambda x: x.latest_odds())\n",
    "print(entries_sorted[0])\n",
    "print(race.win_pool_total, race.place_pool_total, race.show_pool_total)"
   ]
  },
  {
   "cell_type": "code",
   "execution_count": 24,
   "id": "0a546b1f-f9fb-4860-baa4-af1c083b9150",
   "metadata": {},
   "outputs": [
    {
     "data": {
      "text/plain": [
       "'1ee110791795faf5b4b8400881cde8cb'"
      ]
     },
     "execution_count": 24,
     "metadata": {},
     "output_type": "execute_result"
    }
   ],
   "source": [
    "race.md5_hash().hexdigest()"
   ]
  },
  {
   "cell_type": "code",
   "execution_count": 22,
   "id": "e773289e-1b98-4b04-bf8b-c5a9b037cd7f",
   "metadata": {},
   "outputs": [],
   "source": [
    "db.query(Race).filter(Race.race_md5_hex == '0bf145980f731a5385e6c4a37cb7dc1c').first()"
   ]
  },
  {
   "cell_type": "code",
   "execution_count": 21,
   "id": "393aaf76-0302-4767-ace1-cc1562dedc78",
   "metadata": {},
   "outputs": [
    {
     "name": "stdout",
     "output_type": "stream",
     "text": [
      "test\n"
     ]
    }
   ],
   "source": [
    "print('test')"
   ]
  },
  {
   "cell_type": "code",
   "execution_count": null,
   "id": "b5f74882-018e-4e13-ba1d-780ef369054d",
   "metadata": {},
   "outputs": [],
   "source": []
  }
 ],
 "metadata": {
  "kernelspec": {
   "display_name": "Python 3 (ipykernel)",
   "language": "python",
   "name": "python3"
  },
  "language_info": {
   "codemirror_mode": {
    "name": "ipython",
    "version": 3
   },
   "file_extension": ".py",
   "mimetype": "text/x-python",
   "name": "python",
   "nbconvert_exporter": "python",
   "pygments_lexer": "ipython3",
   "version": "3.9.7"
  }
 },
 "nbformat": 4,
 "nbformat_minor": 5
}
