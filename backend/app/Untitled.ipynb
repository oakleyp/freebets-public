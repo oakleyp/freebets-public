{
 "cells": [
  {
   "cell_type": "code",
   "execution_count": 1,
   "id": "b0f21f82-7c26-42e5-a3a0-2c40c02609fd",
   "metadata": {},
   "outputs": [],
   "source": [
    "%load_ext autoreload\n",
    "%autoreload 2\n",
    "\n"
   ]
  },
  {
   "cell_type": "code",
   "execution_count": 2,
   "id": "e26d49fa-9fe8-4bb9-b9ad-26282bd859ed",
   "metadata": {},
   "outputs": [],
   "source": [
    "import math\n",
    "from typing import List, Tuple, Callable\n",
    "\n",
    "from app.models.race import Race\n",
    "from app.models.race_entry import RaceEntry\n",
    "import hyperopt\n",
    "from app.db.session import SessionLocal\n",
    "import random\n",
    "from pydantic import BaseModel\n",
    "from decimal import Decimal\n"
   ]
  },
  {
   "cell_type": "code",
   "execution_count": 3,
   "id": "f75a8921-1c21-4136-abc2-7e14f7530518",
   "metadata": {},
   "outputs": [],
   "source": [
    "db = SessionLocal()"
   ]
  },
  {
   "cell_type": "code",
   "execution_count": 11,
   "id": "ada88637-ae33-43a5-8101-f78b24118d7e",
   "metadata": {},
   "outputs": [
    {
     "name": "stdout",
     "output_type": "stream",
     "text": [
      "1.0000000000000002\n",
      "<RaceEntry(id=232384,name='Loop Tomb',program_no='4',win_pool_total=665329.4805194805,place_pool_total=599624.4047619047,show_pool_total=651249.8214285714,odds=3.744186046511628)>\n",
      "3173186.406114719 3041910.346590909 3277845.2053571427\n"
     ]
    }
   ],
   "source": [
    "races = db.query(Race).all()\n",
    "race = races[random.randint(0, len(races)-1)]\n",
    "\n",
    "print(sum([1/entry.latest_odds() for entry in race.active_entries()]))\n",
    "entries_sorted = race.entries.copy()\n",
    "entries_sorted.sort(key=lambda x: x.latest_odds())\n",
    "print(entries_sorted[0])\n",
    "print(race.win_pool_total, race.place_pool_total, race.show_pool_total)"
   ]
  },
  {
   "cell_type": "code",
   "execution_count": 12,
   "id": "55e57a0f-51f4-4176-99f5-c8260ace93d2",
   "metadata": {},
   "outputs": [],
   "source": [
    "from app.raceday.bet_strategy.bet_strategies import PlaceBet, ShowBet, DrZPlaceShowArbBet, BetStrategy, FlatBetOutlayStrategy, AvgCostRewardSortStrategy"
   ]
  },
  {
   "cell_type": "code",
   "execution_count": 13,
   "id": "0422359b-2362-4d01-9734-37308a64e4bb",
   "metadata": {},
   "outputs": [],
   "source": [
    "DefaultBetStrategy = BetStrategy(\n",
    "    outlay_strategy=FlatBetOutlayStrategy(), sort_strategy=AvgCostRewardSortStrategy(),\n",
    ")"
   ]
  },
  {
   "cell_type": "code",
   "execution_count": 14,
   "id": "b5d80f8b-598e-4436-bf72-3e04bd3f366b",
   "metadata": {},
   "outputs": [],
   "source": [
    "pb = PlaceBet(race=race, entries=race.active_entries(), selection=[entries_sorted[0]], strategy=DefaultBetStrategy)"
   ]
  },
  {
   "cell_type": "code",
   "execution_count": 15,
   "id": "fe4fa393-c691-46bd-a83c-21069d91de44",
   "metadata": {},
   "outputs": [],
   "source": [
    "from app.raceday.bet_strategy.bet_strategies import calc_avg_place_reward, calc_place_reward_redux, calc_place_reward, calc_show_reward, calc_avg_show_reward"
   ]
  },
  {
   "cell_type": "code",
   "execution_count": 16,
   "id": "dc40fc23-5fbf-4131-95ab-7e44d7295d03",
   "metadata": {},
   "outputs": [
    {
     "name": "stdout",
     "output_type": "stream",
     "text": [
      "GEN\n",
      "0.8193549127276736\n",
      "0.9800107035465426\n",
      "0.7939447652254894\n",
      "0.8570277314853867\n",
      "0.9802580983560851\n",
      "0.8899914205472057\n",
      "0.9050342269985316\n",
      "1.055862382527636\n",
      "0.9135934213269743\n",
      "0.9324111401424804\n",
      "1.0216439795884307\n",
      "1.2177993559016127\n",
      "0.7916682907761708\n",
      "0.7125551298645236\n"
     ]
    }
   ],
   "source": [
    "drzb = DrZPlaceShowArbBet(race=race, entries=race.active_entries(), selection=[race.active_entries()], strategy=DefaultBetStrategy)"
   ]
  },
  {
   "cell_type": "code",
   "execution_count": 17,
   "id": "16bc1a7a-56f6-423d-94d2-a191103b952b",
   "metadata": {},
   "outputs": [
    {
     "data": {
      "text/plain": [
       "3.295305718017679"
      ]
     },
     "execution_count": 17,
     "metadata": {},
     "output_type": "execute_result"
    }
   ],
   "source": [
    "drzb.avg_reward()"
   ]
  },
  {
   "cell_type": "code",
   "execution_count": 18,
   "id": "8d0f5098-8cb0-4ea9-b737-c0be784da41a",
   "metadata": {},
   "outputs": [
    {
     "data": {
      "text/plain": [
       "38.049517656356024"
      ]
     },
     "execution_count": 18,
     "metadata": {},
     "output_type": "execute_result"
    }
   ],
   "source": [
    "drzb.max_reward()"
   ]
  },
  {
   "cell_type": "code",
   "execution_count": 20,
   "id": "f8c3c721-4353-45d9-8fc4-53b42c850d11",
   "metadata": {},
   "outputs": [
    {
     "data": {
      "text/plain": [
       "6"
      ]
     },
     "execution_count": 20,
     "metadata": {},
     "output_type": "execute_result"
    }
   ],
   "source": [
    "drzb.cost()"
   ]
  },
  {
   "cell_type": "code",
   "execution_count": null,
   "id": "69eecf24-5ad3-4ebc-8dbf-dfdd5fcba924",
   "metadata": {},
   "outputs": [],
   "source": []
  }
 ],
 "metadata": {
  "kernelspec": {
   "display_name": "Python 3 (ipykernel)",
   "language": "python",
   "name": "python3"
  },
  "language_info": {
   "codemirror_mode": {
    "name": "ipython",
    "version": 3
   },
   "file_extension": ".py",
   "mimetype": "text/x-python",
   "name": "python",
   "nbconvert_exporter": "python",
   "pygments_lexer": "ipython3",
   "version": "3.9.7"
  }
 },
 "nbformat": 4,
 "nbformat_minor": 5
}
